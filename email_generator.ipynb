{
 "cells": [
  {
   "cell_type": "code",
   "execution_count": 1,
   "id": "558ec3f7-70f7-4472-bef5-8b0edf24fa09",
   "metadata": {},
   "outputs": [],
   "source": [
    "from langchain_groq import ChatGroq"
   ]
  },
  {
   "cell_type": "code",
   "execution_count": 2,
   "id": "df4a7bf3-48d0-4d27-81c8-eefb92b25b2b",
   "metadata": {},
   "outputs": [],
   "source": [
    "llm = ChatGroq(\n",
    "    model=\"deepseek-r1-distill-llama-70b\",\n",
    "    temperature=0,\n",
    "    groq_api_key = 'gsk_**************',\n",
    "    # other params...\n",
    ")"
   ]
  },
  {
   "cell_type": "code",
   "execution_count": 10,
   "id": "d80b63f9-02cb-4ac3-aeb3-380e22c6afbf",
   "metadata": {},
   "outputs": [
    {
     "name": "stdout",
     "output_type": "stream",
     "text": [
      "Embedded AI - JN-062025-6770844 | Michael Page   Skip to main navigation     Mobile Menu      English   Job Search   Save jobs, 0 currently saved jobs  0  Save jobs   Register / Sign in      Job Search   Save jobs, 0 currently saved jobs  0  Save jobs   Register / Sign in  NG Main Navigation Job Seekers   Job Seekers Start your job searchBrowse our jobs and apply for your next role.Find jobs  Find a Job   Job Opportunities  Technology Jobs Sales Jobs Work from Home or Hybrid Jobs Returning to India Pre-MBA Roles View all jobs  Resources  Salary Guide Salary Comparison Tool Job Match Resume Templates & More Create an Account Submit your CV  Contract or Temp Jobs   View Contracting Jobs  Tech Contracting Jobs View all contracting jobs Contracting Resources  5 clear signs a contracting career is for you Contracting vs permanent job: Which is better for you?  Career Advice   Career Tips  Changing Jobs Career Progression Salary Negotiation Tech Job Descriptions Explore all categories Most Popular Articles  Resignation letter templates How to reject a job offer by phone or email How to negotiate for a higher salary Pros and cons of using AI to write resumes Read latest articles Employers   Employers Ready to recruitThe right candidate is just a few clicks away.Request a call back  Looking to Hire?   Looking for Talent in  Technology Banking & Financial Services Finance & Accounting Healthcare and Life Sciences Human Resources Our areas of expertise Our Competitive Advantages  Candidate Verification Our Sourcing Methodology Executive Search Recruitment Outsourcing Job advertising: ReachTalent Google Reviews  Contracting   Our Expertise in Contracting  Hire Temporary Staff Contracting Resources  Reports and Resources   Page Insights  Salary Guide Salary Benchmark Tool Talent Trends Market Insights Management Advice  Leadership Engagement and Retention Hiring Diversity and Inclusion Explore all categories About   About Start your career with usPageGroup changes lives for people through creating opportunity to reach potential.Apply now  About Michael Page   Our Success  Media Releases Reviews Awards Our Brands  About PageGroup Page Executive Page Outsourcing  Careers with PageGroup   Join PageGroup  Why choose us? Your role here Use your skills FAQs Apply now Contact   Contact Contact us todayIf you have any questions, we’re here to help.Contact us  Get in Touch   Feedback Looking to hire?  Find Our Offices    Bangalore Gurgaon Mumbai View all offices Salary Guide Search Job Title  Location  Sort by RelevanceChangedSalary Max BaseSalary Min Base Salary Min Salary min01 lacs10 lacs20 lacs30 lacs40 lacs50 lacs60 lacs70 lacs80 lacs90 lacs1 Crore1 Crore+ Salary Max Salary max01 lacs10 lacs20 lacs30 lacs40 lacs50 lacs60 lacs70 lacs80 lacs90 lacs1 Crore1 Crore+Cancel Cancel  Back to search Embedded AI  Bangalore   Temporary   INR100,000 - INR101,000 per year   View Job Description Your ResponsibilitiesDevelop, optimize, and deploy embedded machine learning models.Ensure performance, memory optimization, and energy efficiency of AI solutions.Integrate ML algorithms with embedded controllers and edge computing platforms.Collaborate closely with automation and software engineers to translate AI solutions into production-grade embedded systems.Our RequirementsDegree in Computer Science, Electrical Engineering, or related field.Strong proficiency in Python, C/C++, and embedded programming.Experience with embedded ML frameworks (e.g., TensorFlow Lite, ONNX, Edge Impulse).Understanding of real-time embedded systems and microcontroller architectures.Minimum of 2 years of relevant experience with Embedded Systems and AI/ML Job Location: Bengaluru, India Job Type: Full-time Experience: 2+ years   Save Job  Back to Search  Job Description Summary Similar JobsCompetetive SalaryPF and GratuityAbout Our ClientOur client is an international professional services brand of firms, operating as partnerships under the brand. It is the second-largest professional services network in the worldJob DescriptionYour ResponsibilitiesDevelop, optimize, and deploy embedded machine learning models.Ensure performance, memory optimization, and energy efficiency of AI solutions.Integrate ML algorithms with embedded controllers and edge computing platforms.Collaborate closely with automation and software engineers to translate AI solutions into production-grade embedded systems.Our RequirementsDegree in Computer Science, Electrical Engineering, or related field.Strong proficiency in Python, C/C++, and embedded programming.Experience with embedded ML frameworks (e.g., TensorFlow Lite, ONNX, Edge Impulse).Understanding of real-time embedded systems and microcontroller architectures.Minimum of 2 years of relevant experience with Embedded Systems and AI/MLJob Location: Bengaluru, India Job Type: Full-time Experience: 2+ yearsThe Successful ApplicantYour ResponsibilitiesDevelop, optimize, and deploy embedded machine learning models.Ensure performance, memory optimization, and energy efficiency of AI solutions.Integrate ML algorithms with embedded controllers and edge computing platforms.Collaborate closely with automation and software engineers to translate AI solutions into production-grade embedded systems.Our RequirementsDegree in Computer Science, Electrical Engineering, or related field.Strong proficiency in Python, C/C++, and embedded programming.Experience with embedded ML frameworks (e.g., TensorFlow Lite, ONNX, Edge Impulse).Understanding of real-time embedded systems and microcontroller architectures.Minimum of 2 years of relevant experience with Embedded Systems and AI/MLJob Location: Bengaluru, India Job Type: Full-time Experience: 2+ yearsWhat's on OfferCompetitive compensation commensurate with role and skill setMedical Insurance Coverage worth of 10 LacsSocial Benifits including PF & GratuityA fast-paced, growth-oriented environment with the associated (challenges and) rewardsOpportunity to grow and develop your own skills and create your futureQuote job refJN-062025-6770844Job summaryFunctionAnalyticsSub SectorMachine LearningWhat is your area of specialisation?Technology & TelecomsLocationBangaloreJob TypeTemporaryJob ReferenceJN-062025-6770844Save JobApplyDiversity & Inclusion at Michael PageWe don't just accept difference - we celebrate it. We encourage applicants from all backgrounds to apply for this role and are committed to building inclusive, diverse workplaces where everyone can thrive. If you require any support or reasonable adjustments during the recruitment process, please let us know.  Similar Jobs  Analytics Lead | Retail & Apparel | Bangalore | WFO  Save Job Bangalore Permanent  Opportunity | Data Scientist | Global Lifestyle Fashion Brand  Save Job Gurgaon Permanent INR20 - INR30 per year  Senior/Principal Data Scientist - Dynamic Pricing || Pune  Save Job Pune Permanent  Senior Analyst-DS/ML - Pune/Mumbai/Bangalore/Gurgaon  Save Job Pune Permanent INR3,000,000 - INR3,200,000 per year  Lead - Commercial Analytics | Mumbai | 8-14yrs exp | FMCG  Save Job Mumbai Permanent  Director Data Science( Hands On Role | Bangalore Based)  Save Job Bangalore Permanent  Director Data Management  Save Job Bangalore Permanent  Data Engineer || 2-5 YOE || Gaming Industry || Pune  Save Job Pune Permanent  Vertical Head Supply Chain Analytics | Mumbai  Save Job Mumbai Permanent     General   Page Executive Page Outsourcing PageGroup corporate site Investor site Privacy policy Cookie policy Email disclaimer Company compliance Advisory on job scams Web accessibility statement Site map Site terms Change country/region   Jobs by function    Browse Jobs     Browse jobs by Function   AnalyticsBanking & Financial ServicesConsultancy, Strategy & ChangeEngineering & ManufacturingFinance & AccountingHealthcare & Life SciencesHuman ResourcesInformation TechnologyInsuranceLegalMarketingProcurement & Supply ChainPropertyRetailSales  Function   AnalyticsBanking & Financial ServicesConsultancy, Strategy & ChangeEngineering & ManufacturingFinance & AccountingHealthcare & Life SciencesHuman ResourcesInformation TechnologyInsuranceLegalMarketingProcurement & Supply ChainPropertyRetailSales   Contact   Feedback Looking to hire? Submit your CV   Our Offices   Gurgaon Mumbai Bangalore  Accreditations                © Michael Page International Recruitment Pvt Ltd Registered office address at 5th Floor, 2 North Avenue, Maker Maxity, Bandra-Kurla Complex, Bandra (E), Mumbai 400051 Back Forward Home Tempapp Home\n"
     ]
    }
   ],
   "source": [
    "from langchain_community.document_loaders import WebBaseLoader\n",
    "\n",
    "loader = WebBaseLoader(\"https://www.michaelpage.co.in/job-detail/embedded-ai/ref/jn-062025-6770844\")\n",
    "page_data = loader.load().pop().page_content\n",
    "print(page_data)"
   ]
  },
  {
   "cell_type": "code",
   "execution_count": 12,
   "id": "0fc17476-b078-47f0-89e1-3c00d6560d08",
   "metadata": {},
   "outputs": [
    {
     "name": "stdout",
     "output_type": "stream",
     "text": [
      "<think>\n",
      "Okay, so I need to extract job postings from the given scraped text and format them into JSON with specific keys: role, experience, skills, and description. Let me start by reading through the text carefully to identify all the job postings.\n",
      "\n",
      "First, I notice that the text has a section labeled \"Embedded AI - JN-062025-6770844 | Michael Page\". This seems like a job title along with a reference number. The job is in Bangalore, and it's a temporary position with a salary range of INR100,000 - INR101,000 per year. \n",
      "\n",
      "Looking further, under \"Your Responsibilities,\" there are several bullet points. These outline the tasks the role entails, such as developing embedded machine learning models, ensuring performance and efficiency, integrating ML algorithms, and collaborating with engineers. I'll need to include these as the job description.\n",
      "\n",
      "Next, under \"Our Requirements,\" there are details about the qualifications needed. This includes a degree in Computer Science or related fields, proficiency in certain programming languages, experience with specific ML frameworks, understanding of embedded systems, and a minimum of 2 years of experience. These points will form the skills section.\n",
      "\n",
      "The experience required is clearly stated as 2+ years, so that's straightforward. The role is for an Embedded AI position, so that will be the role key.\n",
      "\n",
      "I should structure this information into a JSON object with the specified keys. I'll make sure each key has the appropriate value, using arrays for skills and description to accommodate multiple points.\n",
      "\n",
      "I also notice that there are similar jobs listed at the end, but the main job posting seems to be the one detailed at the top. I'll focus on extracting that one for now. If there were multiple job postings, I would create an array of JSON objects, but in this case, it looks like there's only one.\n",
      "\n",
      "I need to ensure that the JSON is correctly formatted, with proper commas and brackets. Each string should be enclosed in double quotes, and arrays should have their items separated by commas.\n",
      "\n",
      "Let me double-check that I've captured all the necessary information:\n",
      "\n",
      "- Role: Embedded AI\n",
      "- Experience: 2+ years\n",
      "- Skills: Degree, programming languages, frameworks, understanding of systems\n",
      "- Description: Responsibilities listed\n",
      "\n",
      "I think that covers everything. Now, I'll format it into JSON, making sure it's valid and only includes the specified keys without any additional text or explanations.\n",
      "</think>\n",
      "\n",
      "```json\n",
      "{\n",
      "  \"role\": \"Embedded AI\",\n",
      "  \"experience\": \"2+ years\",\n",
      "  \"skills\": [\n",
      "    \"Degree in Computer Science, Electrical Engineering, or related field\",\n",
      "    \"Strong proficiency in Python, C/C++, and embedded programming\",\n",
      "    \"Experience with embedded ML frameworks (e.g., TensorFlow Lite, ONNX, Edge Impulse)\",\n",
      "    \"Understanding of real-time embedded systems and microcontroller architectures\"\n",
      "  ],\n",
      "  \"description\": [\n",
      "    \"Develop, optimize, and deploy embedded machine learning models\",\n",
      "    \"Ensure performance, memory optimization, and energy efficiency of AI solutions\",\n",
      "    \"Integrate ML algorithms with embedded controllers and edge computing platforms\",\n",
      "    \"Collaborate closely with automation and software engineers to translate AI solutions into production-grade embedded systems\"\n",
      "  ]\n",
      "}\n",
      "```\n"
     ]
    }
   ],
   "source": [
    "from langchain_core.prompts import PromptTemplate\n",
    "\n",
    "prompt_extract = PromptTemplate.from_template(\n",
    "        \"\"\"\n",
    "        ### SCRAPED TEXT FROM WEBSITE:\n",
    "        {page_data}\n",
    "        ### INSTRUCTION:\n",
    "        The scraped text is from the career's page of a website.\n",
    "        Your job is to extract the job postings and return them in JSON format containing the \n",
    "        following keys: `role`, `experience`, `skills` and `description`.\n",
    "        Only return the valid JSON.\n",
    "        ### VALID JSON (NO PREAMBLE):    \n",
    "        \"\"\"\n",
    ")\n",
    "\n",
    "chain_extract = prompt_extract | llm \n",
    "res = chain_extract.invoke(input={'page_data':page_data})\n",
    "print(res.content)"
   ]
  },
  {
   "cell_type": "code",
   "execution_count": 13,
   "id": "2cb3cdcb-eae3-4ff8-85be-0560f095cd73",
   "metadata": {},
   "outputs": [
    {
     "data": {
      "text/plain": [
       "{'role': 'Embedded AI',\n",
       " 'experience': '2+ years',\n",
       " 'skills': ['Degree in Computer Science, Electrical Engineering, or related field',\n",
       "  'Strong proficiency in Python, C/C++, and embedded programming',\n",
       "  'Experience with embedded ML frameworks (e.g., TensorFlow Lite, ONNX, Edge Impulse)',\n",
       "  'Understanding of real-time embedded systems and microcontroller architectures'],\n",
       " 'description': ['Develop, optimize, and deploy embedded machine learning models',\n",
       "  'Ensure performance, memory optimization, and energy efficiency of AI solutions',\n",
       "  'Integrate ML algorithms with embedded controllers and edge computing platforms',\n",
       "  'Collaborate closely with automation and software engineers to translate AI solutions into production-grade embedded systems']}"
      ]
     },
     "execution_count": 13,
     "metadata": {},
     "output_type": "execute_result"
    }
   ],
   "source": [
    "from langchain_core.output_parsers import JsonOutputParser\n",
    "\n",
    "json_parser = JsonOutputParser()\n",
    "json_res = json_parser.parse(res.content)\n",
    "json_res"
   ]
  },
  {
   "cell_type": "code",
   "execution_count": 14,
   "id": "11f0c4b5-aefc-4b0d-988b-62b919ed49db",
   "metadata": {},
   "outputs": [
    {
     "data": {
      "text/plain": [
       "dict"
      ]
     },
     "execution_count": 14,
     "metadata": {},
     "output_type": "execute_result"
    }
   ],
   "source": [
    "type(json_res)"
   ]
  },
  {
   "cell_type": "code",
   "execution_count": 7,
   "id": "5b460918-de36-4182-bae8-09f2c8524c50",
   "metadata": {},
   "outputs": [
    {
     "data": {
      "text/html": [
       "<div>\n",
       "<style scoped>\n",
       "    .dataframe tbody tr th:only-of-type {\n",
       "        vertical-align: middle;\n",
       "    }\n",
       "\n",
       "    .dataframe tbody tr th {\n",
       "        vertical-align: top;\n",
       "    }\n",
       "\n",
       "    .dataframe thead th {\n",
       "        text-align: right;\n",
       "    }\n",
       "</style>\n",
       "<table border=\"1\" class=\"dataframe\">\n",
       "  <thead>\n",
       "    <tr style=\"text-align: right;\">\n",
       "      <th></th>\n",
       "      <th>Techstack</th>\n",
       "      <th>Links</th>\n",
       "    </tr>\n",
       "  </thead>\n",
       "  <tbody>\n",
       "    <tr>\n",
       "      <th>0</th>\n",
       "      <td>React, Node.js, MongoDB</td>\n",
       "      <td>https://example.com/react-portfolio</td>\n",
       "    </tr>\n",
       "    <tr>\n",
       "      <th>1</th>\n",
       "      <td>Angular,.NET, SQL Server</td>\n",
       "      <td>https://example.com/angular-portfolio</td>\n",
       "    </tr>\n",
       "    <tr>\n",
       "      <th>2</th>\n",
       "      <td>Vue.js, Ruby on Rails, PostgreSQL</td>\n",
       "      <td>https://example.com/vue-portfolio</td>\n",
       "    </tr>\n",
       "    <tr>\n",
       "      <th>3</th>\n",
       "      <td>Python, Django, MySQL</td>\n",
       "      <td>https://example.com/python-portfolio</td>\n",
       "    </tr>\n",
       "    <tr>\n",
       "      <th>4</th>\n",
       "      <td>Java, Spring Boot, Oracle</td>\n",
       "      <td>https://example.com/java-portfolio</td>\n",
       "    </tr>\n",
       "    <tr>\n",
       "      <th>5</th>\n",
       "      <td>Flutter, Firebase, GraphQL</td>\n",
       "      <td>https://example.com/flutter-portfolio</td>\n",
       "    </tr>\n",
       "    <tr>\n",
       "      <th>6</th>\n",
       "      <td>WordPress, PHP, MySQL</td>\n",
       "      <td>https://example.com/wordpress-portfolio</td>\n",
       "    </tr>\n",
       "    <tr>\n",
       "      <th>7</th>\n",
       "      <td>Magento, PHP, MySQL</td>\n",
       "      <td>https://example.com/magento-portfolio</td>\n",
       "    </tr>\n",
       "    <tr>\n",
       "      <th>8</th>\n",
       "      <td>React Native, Node.js, MongoDB</td>\n",
       "      <td>https://example.com/react-native-portfolio</td>\n",
       "    </tr>\n",
       "    <tr>\n",
       "      <th>9</th>\n",
       "      <td>iOS, Swift, Core Data</td>\n",
       "      <td>https://example.com/ios-portfolio</td>\n",
       "    </tr>\n",
       "    <tr>\n",
       "      <th>10</th>\n",
       "      <td>Android, Java, Room Persistence</td>\n",
       "      <td>https://example.com/android-portfolio</td>\n",
       "    </tr>\n",
       "    <tr>\n",
       "      <th>11</th>\n",
       "      <td>Kotlin, Android, Firebase</td>\n",
       "      <td>https://example.com/kotlin-android-portfolio</td>\n",
       "    </tr>\n",
       "    <tr>\n",
       "      <th>12</th>\n",
       "      <td>Android TV, Kotlin, Android NDK</td>\n",
       "      <td>https://example.com/android-tv-portfolio</td>\n",
       "    </tr>\n",
       "    <tr>\n",
       "      <th>13</th>\n",
       "      <td>iOS, Swift, ARKit</td>\n",
       "      <td>https://example.com/ios-ar-portfolio</td>\n",
       "    </tr>\n",
       "    <tr>\n",
       "      <th>14</th>\n",
       "      <td>Cross-platform, Xamarin, Azure</td>\n",
       "      <td>https://example.com/xamarin-portfolio</td>\n",
       "    </tr>\n",
       "    <tr>\n",
       "      <th>15</th>\n",
       "      <td>Backend, Kotlin, Spring Boot</td>\n",
       "      <td>https://example.com/kotlin-backend-portfolio</td>\n",
       "    </tr>\n",
       "    <tr>\n",
       "      <th>16</th>\n",
       "      <td>Frontend, TypeScript, Angular</td>\n",
       "      <td>https://example.com/typescript-frontend-portfolio</td>\n",
       "    </tr>\n",
       "    <tr>\n",
       "      <th>17</th>\n",
       "      <td>Full-stack, JavaScript, Express.js</td>\n",
       "      <td>https://example.com/full-stack-js-portfolio</td>\n",
       "    </tr>\n",
       "    <tr>\n",
       "      <th>18</th>\n",
       "      <td>Machine Learning, Python, TensorFlow</td>\n",
       "      <td>https://example.com/ml-python-portfolio</td>\n",
       "    </tr>\n",
       "    <tr>\n",
       "      <th>19</th>\n",
       "      <td>DevOps, Jenkins, Docker</td>\n",
       "      <td>https://example.com/devops-portfolio</td>\n",
       "    </tr>\n",
       "  </tbody>\n",
       "</table>\n",
       "</div>"
      ],
      "text/plain": [
       "                               Techstack  \\\n",
       "0                React, Node.js, MongoDB   \n",
       "1               Angular,.NET, SQL Server   \n",
       "2      Vue.js, Ruby on Rails, PostgreSQL   \n",
       "3                  Python, Django, MySQL   \n",
       "4              Java, Spring Boot, Oracle   \n",
       "5             Flutter, Firebase, GraphQL   \n",
       "6                  WordPress, PHP, MySQL   \n",
       "7                    Magento, PHP, MySQL   \n",
       "8         React Native, Node.js, MongoDB   \n",
       "9                  iOS, Swift, Core Data   \n",
       "10       Android, Java, Room Persistence   \n",
       "11             Kotlin, Android, Firebase   \n",
       "12       Android TV, Kotlin, Android NDK   \n",
       "13                     iOS, Swift, ARKit   \n",
       "14        Cross-platform, Xamarin, Azure   \n",
       "15          Backend, Kotlin, Spring Boot   \n",
       "16         Frontend, TypeScript, Angular   \n",
       "17    Full-stack, JavaScript, Express.js   \n",
       "18  Machine Learning, Python, TensorFlow   \n",
       "19               DevOps, Jenkins, Docker   \n",
       "\n",
       "                                                Links  \n",
       "0                 https://example.com/react-portfolio  \n",
       "1               https://example.com/angular-portfolio  \n",
       "2                   https://example.com/vue-portfolio  \n",
       "3                https://example.com/python-portfolio  \n",
       "4                  https://example.com/java-portfolio  \n",
       "5               https://example.com/flutter-portfolio  \n",
       "6             https://example.com/wordpress-portfolio  \n",
       "7               https://example.com/magento-portfolio  \n",
       "8          https://example.com/react-native-portfolio  \n",
       "9                   https://example.com/ios-portfolio  \n",
       "10              https://example.com/android-portfolio  \n",
       "11       https://example.com/kotlin-android-portfolio  \n",
       "12           https://example.com/android-tv-portfolio  \n",
       "13               https://example.com/ios-ar-portfolio  \n",
       "14              https://example.com/xamarin-portfolio  \n",
       "15       https://example.com/kotlin-backend-portfolio  \n",
       "16  https://example.com/typescript-frontend-portfolio  \n",
       "17        https://example.com/full-stack-js-portfolio  \n",
       "18            https://example.com/ml-python-portfolio  \n",
       "19               https://example.com/devops-portfolio  "
      ]
     },
     "execution_count": 7,
     "metadata": {},
     "output_type": "execute_result"
    }
   ],
   "source": [
    "import pandas as pd\n",
    "\n",
    "df = pd.read_csv(\"my_portfolio.csv\")\n",
    "df\n"
   ]
  },
  {
   "cell_type": "code",
   "execution_count": 8,
   "id": "0f544c8e-f373-4e76-8fe5-703f1b0fc895",
   "metadata": {},
   "outputs": [],
   "source": [
    "import uuid\n",
    "import chromadb\n",
    "\n",
    "client = chromadb.PersistentClient('vectorstore')\n",
    "collection = client.get_or_create_collection(name=\"portfolio\")\n",
    "\n",
    "if not collection.count():\n",
    "    for _, row in df.iterrows():\n",
    "        collection.add(documents=row[\"Techstack\"],\n",
    "                       metadatas={\"links\": row[\"Links\"]},\n",
    "                       ids=[str(uuid.uuid4())])"
   ]
  },
  {
   "cell_type": "code",
   "execution_count": 18,
   "id": "274b7f39-4afe-43f2-98d1-a2823910fd78",
   "metadata": {},
   "outputs": [
    {
     "data": {
      "text/plain": [
       "[[{'links': 'https://example.com/ml-python-portfolio'},\n",
       "  {'links': 'https://example.com/devops-portfolio'}],\n",
       " [{'links': 'https://example.com/ml-python-portfolio'},\n",
       "  {'links': 'https://example.com/python-portfolio'}],\n",
       " [{'links': 'https://example.com/ml-python-portfolio'},\n",
       "  {'links': 'https://example.com/xamarin-portfolio'}],\n",
       " [{'links': 'https://example.com/android-portfolio'},\n",
       "  {'links': 'https://example.com/ml-python-portfolio'}]]"
      ]
     },
     "execution_count": 18,
     "metadata": {},
     "output_type": "execute_result"
    }
   ],
   "source": [
    "links = collection.query(query_texts=job['skills'], n_results=2).get('metadatas', [])\n",
    "links"
   ]
  },
  {
   "cell_type": "code",
   "execution_count": 16,
   "id": "b235c3ce-ed69-4df0-85c7-9addd068d14c",
   "metadata": {},
   "outputs": [
    {
     "data": {
      "text/plain": [
       "['Degree in Computer Science, Electrical Engineering, or related field',\n",
       " 'Strong proficiency in Python, C/C++, and embedded programming',\n",
       " 'Experience with embedded ML frameworks (e.g., TensorFlow Lite, ONNX, Edge Impulse)',\n",
       " 'Understanding of real-time embedded systems and microcontroller architectures']"
      ]
     },
     "execution_count": 16,
     "metadata": {},
     "output_type": "execute_result"
    }
   ],
   "source": [
    "job = json_res\n",
    "job['skills']"
   ]
  },
  {
   "cell_type": "code",
   "execution_count": 19,
   "id": "01d34b19-4304-4620-a829-b7e462348322",
   "metadata": {},
   "outputs": [
    {
     "name": "stdout",
     "output_type": "stream",
     "text": [
      "<think>\n",
      "Okay, I need to help the user by writing a cold email as Mohan from AtliQ. The job description is for an Embedded AI role, so the email should highlight AtliQ's capabilities in that area.\n",
      "\n",
      "First, I'll start with a strong subject line that grabs attention, maybe something about expertise in embedded AI solutions.\n",
      "\n",
      "In the opening, I'll address the hiring manager and express interest in the role. I should mention AtliQ's experience in AI and software consulting, emphasizing their track record with enterprises.\n",
      "\n",
      "Next, I'll outline why AtliQ is a good fit. I'll break it down into bullet points for clarity. Points should include expertise in Python, C/C++, and embedded programming, experience with frameworks like TensorFlow Lite, and their work with microcontrollers.\n",
      "\n",
      "Then, I'll showcase their portfolio. From the provided links, the most relevant ones are the ML-Python portfolio, so I'll include that link. I'll mention specific projects they've done, like optimizing ML models for edge devices or integrating AI with microcontrollers.\n",
      "\n",
      "I should also highlight the benefits they bring, like performance optimization and energy efficiency, which are crucial for embedded systems.\n",
      "\n",
      "Finally, I'll propose a discussion to explore how AtliQ can help and include a call to action for scheduling a call. I'll close with my contact information.\n",
      "\n",
      "I need to make sure the email is concise, professional, and tailored to the job description. Avoid any markdown and keep the tone friendly yet confident.\n",
      "</think>\n",
      "\n",
      "Subject: Expertise in Embedded AI Solutions for Your Needs  \n",
      "\n",
      "Dear Hiring Manager,  \n",
      "\n",
      "I hope this email finds you well. My name is Mohan, and I am a Business Development Executive at AtliQ, an AI & Software Consulting company specializing in delivering tailored solutions for seamless integration of business processes through automated tools.  \n",
      "\n",
      "We understand the complexities of developing, optimizing, and deploying embedded machine learning models, and I’d like to highlight how AtliQ can support your requirements:  \n",
      "\n",
      "**Why AtliQ?**  \n",
      "- **Technical Expertise**: Our team excels in Python, C/C++, and embedded programming, ensuring robust solutions for real-time embedded systems and microcontroller architectures.  \n",
      "- **ML Frameworks**: We have extensive experience with embedded ML frameworks such as TensorFlow Lite, ONNX, and Edge Impulse, enabling efficient model deployment.  \n",
      "- **Optimization Focus**: We prioritize performance, memory optimization, and energy efficiency to ensure AI solutions are production-ready and scalable.  \n",
      "- **Collaborative Approach**: Our engineers work closely with cross-functional teams to integrate ML algorithms with embedded controllers and edge computing platforms.  \n",
      "\n",
      "**Portfolio Showcase**  \n",
      "To demonstrate our capabilities, I’d like to share some relevant work:  \n",
      "- [ML & Python Solutions](https://example.com/ml-python-portfolio) – Highlighting our expertise in optimizing ML models for edge devices and embedded systems.  \n",
      "\n",
      "At AtliQ, we empower enterprises by fostering scalability, process optimization, and cost reduction through cutting-edge AI solutions. I’d love to discuss how we can collaborate to bring your embedded AI vision to life.  \n",
      "\n",
      "Let’s schedule a call to explore this opportunity further. Please let me know a time that works for you.  \n",
      "\n",
      "Looking forward to your response.  \n",
      "\n",
      "Best regards,  \n",
      "Mohan  \n",
      "Business Development Executive  \n",
      "AtliQ – AI & Software Consulting  \n",
      "[Your Contact Information]\n"
     ]
    }
   ],
   "source": [
    "prompt_email = PromptTemplate.from_template(\n",
    "        \"\"\"\n",
    "        ### JOB DESCRIPTION:\n",
    "        {job_description}\n",
    "        \n",
    "        ### INSTRUCTION:\n",
    "        You are Mohan, a business development executive at AtliQ. AtliQ is an AI & Software Consulting company dedicated to facilitating\n",
    "        the seamless integration of business processes through automated tools. \n",
    "        Over our experience, we have empowered numerous enterprises with tailored solutions, fostering scalability, \n",
    "        process optimization, cost reduction, and heightened overall efficiency. \n",
    "        Your job is to write a cold email to the client regarding the job mentioned above describing the capability of AtliQ \n",
    "        in fulfilling their needs.\n",
    "        Also add the most relevant ones from the following links to showcase Atliq's portfolio: {link_list}\n",
    "        Remember you are Mohan, BDE at AtliQ. \n",
    "        Do not provide a preamble.\n",
    "        ### EMAIL (NO PREAMBLE):\n",
    "        \n",
    "        \"\"\"\n",
    "        )\n",
    "\n",
    "chain_email = prompt_email | llm\n",
    "res = chain_email.invoke({\"job_description\": str(job), \"link_list\": links})\n",
    "print(res.content)"
   ]
  },
  {
   "cell_type": "code",
   "execution_count": null,
   "id": "2de27702-05df-431a-baef-90ce314d0811",
   "metadata": {},
   "outputs": [],
   "source": []
  }
 ],
 "metadata": {
  "kernelspec": {
   "display_name": "Python 3 (ipykernel)",
   "language": "python",
   "name": "python3"
  },
  "language_info": {
   "codemirror_mode": {
    "name": "ipython",
    "version": 3
   },
   "file_extension": ".py",
   "mimetype": "text/x-python",
   "name": "python",
   "nbconvert_exporter": "python",
   "pygments_lexer": "ipython3",
   "version": "3.12.7"
  }
 },
 "nbformat": 4,
 "nbformat_minor": 5
}
